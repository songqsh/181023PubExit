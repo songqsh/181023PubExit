{
  "nbformat": 4,
  "nbformat_minor": 0,
  "metadata": {
    "colab": {
      "name": "to_do.ipynb",
      "version": "0.3.2",
      "provenance": [],
      "include_colab_link": true
    },
    "kernelspec": {
      "name": "python3",
      "display_name": "Python 3"
    }
  },
  "cells": [
    {
      "cell_type": "markdown",
      "metadata": {
        "id": "view-in-github",
        "colab_type": "text"
      },
      "source": [
        "<a href=\"https://colab.research.google.com/github/songqsh/181023PubExit/blob/master/others/to_do.ipynb\" target=\"_parent\"><img src=\"https://colab.research.google.com/assets/colab-badge.svg\" alt=\"Open In Colab\"/></a>"
      ]
    },
    {
      "metadata": {
        "id": "FWY2ILKIHghm",
        "colab_type": "text"
      },
      "cell_type": "markdown",
      "source": [
        "# To Do"
      ]
    },
    {
      "metadata": {
        "id": "cFboJDORHdAy",
        "colab_type": "text"
      },
      "cell_type": "markdown",
      "source": [
        "- Buy router\n",
        "\n",
        "- State ID\n",
        "\n",
        "- Driver's license\n",
        "\n",
        "- editorial work\n",
        "\n",
        "- After receiving master card, change autopay for \n",
        "\tverizon cell, verizon cable(song and xu), sears\n",
        "\n"
      ]
    },
    {
      "metadata": {
        "id": "Z-hjXt-3HmXP",
        "colab_type": "code",
        "colab": {}
      },
      "cell_type": "code",
      "source": [
        ""
      ],
      "execution_count": 0,
      "outputs": []
    }
  ]
}