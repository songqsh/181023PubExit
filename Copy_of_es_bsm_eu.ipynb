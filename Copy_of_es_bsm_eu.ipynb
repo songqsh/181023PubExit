{
  "nbformat": 4,
  "nbformat_minor": 0,
  "metadata": {
    "colab": {
      "name": "Copy of es_bsm_eu.ipynb",
      "version": "0.3.2",
      "provenance": [],
      "include_colab_link": true
    },
    "kernelspec": {
      "display_name": "Python 3",
      "language": "python",
      "name": "python3"
    }
  },
  "cells": [
    {
      "cell_type": "markdown",
      "metadata": {
        "id": "view-in-github",
        "colab_type": "text"
      },
      "source": [
        "<a href=\"https://colab.research.google.com/github/songqsh/181023PubExit/blob/master/Copy_of_es_bsm_eu.ipynb\" target=\"_parent\"><img src=\"https://colab.research.google.com/assets/colab-badge.svg\" alt=\"Open In Colab\"/></a>"
      ]
    },
    {
      "metadata": {
        "id": "v48jpj4nSkN3",
        "colab_type": "text"
      },
      "cell_type": "markdown",
      "source": [
        "__Abstract__\n",
        "\n",
        "- Goal\n",
        "    - Apply exact sampling (ES) to geometric Brownian motion and European options.\n",
        "- Ref"
      ]
    },
    {
      "metadata": {
        "id": "xD-VvwfxTfXN",
        "colab_type": "code",
        "colab": {}
      },
      "cell_type": "code",
      "source": [
        "#!git clone https://github.com/songqsh/test01.git\n",
        "#ls"
      ],
      "execution_count": 0,
      "outputs": []
    },
    {
      "metadata": {
        "id": "vyFZUcQYSkN6",
        "colab_type": "text"
      },
      "cell_type": "markdown",
      "source": [
        "__Problem__\n",
        "\n",
        "- Asset follows $GBM(S_0, r, \\sigma^2)$;\n",
        "- European call payoff is given as\n",
        "$$F(S) = (S-K)^+$$\n",
        "- Find price $$e^{-rT}\\mathbb E [F(S_T)]$$"
      ]
    },
    {
      "metadata": {
        "id": "Ct6_zLT_SkN8",
        "colab_type": "text"
      },
      "cell_type": "markdown",
      "source": [
        "__Anal__. \n",
        "\n",
        "Whenever explicit solution for SDE available, exact simulation is also available."
      ]
    },
    {
      "metadata": {
        "id": "lGpiEkj-SkN8",
        "colab_type": "text"
      },
      "cell_type": "markdown",
      "source": [
        "__Parameters__. Benchmark examples is from [Exact Option Price: BSM](./exact_option_price_bsm.ipynb)\n",
        "\n",
        "- $S(0) = 100, K = 110, r = 4.75\\%, \\sigma = 20\\%, T = 1.$\n",
        "- $k = 1000$, $n = 1000$, $m = 2$"
      ]
    },
    {
      "metadata": {
        "id": "vK2N5CFZSkN9",
        "colab_type": "text"
      },
      "cell_type": "markdown",
      "source": [
        "__Algo__. Crude MC\n",
        "\n",
        "- Repeat $k$ times of the following MC:\n",
        "    - Repeat $n$ times of simulations:\n",
        "        - Generate GBM path with $m$ steps;\n",
        "        - Compute payoff for each path, and take average;\n",
        "    - Average Payoff, then discount;\n",
        "- Find mean, MSE"
      ]
    },
    {
      "metadata": {
        "id": "U4HTVq_PSkN9",
        "colab_type": "code",
        "outputId": "56db5b5a-a8a2-40d5-d386-fa198341ac89",
        "colab": {
          "base_uri": "https://localhost:8080/",
          "height": 51
        }
      },
      "cell_type": "code",
      "source": [
        "%reset -f\n",
        "from exact_option_price import *\n",
        "S0 = 100.0\n",
        "K = 110.0\n",
        "r=0.0475\n",
        "sigma = 0.20\n",
        "T = 1.\n",
        "icall = bsm_call_value(S0, K, T, r, sigma)\n",
        "iput = bsm_put_value(S0, K, T, r, sigma)\n",
        "print('Benchmark:\\n call is ' + repr(icall) + ' and put is ' + repr(iput))"
      ],
      "execution_count": 0,
      "outputs": [
        {
          "output_type": "stream",
          "text": [
            "Benchmark:\n",
            " call is 5.943273183452838 and put is 10.840425228041752\n"
          ],
          "name": "stdout"
        }
      ]
    },
    {
      "metadata": {
        "id": "3T0NKELRSkOF",
        "colab_type": "code",
        "colab": {}
      },
      "cell_type": "code",
      "source": [
        "from exact_simulation_v01 import *"
      ],
      "execution_count": 0,
      "outputs": []
    },
    {
      "metadata": {
        "id": "OnShQrDlSkOI",
        "colab_type": "code",
        "colab": {}
      },
      "cell_type": "code",
      "source": [
        "n = 100; m = 2; k = 1000"
      ],
      "execution_count": 0,
      "outputs": []
    },
    {
      "metadata": {
        "id": "Owzh46aASkOK",
        "colab_type": "code",
        "colab": {}
      },
      "cell_type": "code",
      "source": [
        "val = np.zeros(k) #initialize call price\n",
        "payoff = np.zeros(n) #payoff for each path\n",
        "for i in np.arange(k):\n",
        "    for j in np.arange(n):\n",
        "        S = gbm_1d(T, m, r, sigma, x0 = S0)\n",
        "        payoff[j] = np.max([S[-1] - K, 0])\n",
        "    val[i] = payoff.mean()*np.exp(-r*T)\n"
      ],
      "execution_count": 0,
      "outputs": []
    },
    {
      "metadata": {
        "id": "PMqe-YKXSkOM",
        "colab_type": "code",
        "outputId": "f2989897-27e1-424c-ef9b-19751cec3113",
        "colab": {
          "base_uri": "https://localhost:8080/",
          "height": 85
        }
      },
      "cell_type": "code",
      "source": [
        "print('MC computation for Call value: \\n')\n",
        "print('Mean is ' + str(val.mean()))    \n",
        "print('MSE is ' + str(val.var()))"
      ],
      "execution_count": 0,
      "outputs": [
        {
          "output_type": "stream",
          "text": [
            "MC computation for Call value: \n",
            "\n",
            "Mean is 5.930118411308594\n",
            "MSE is 1.3433097904784048\n"
          ],
          "name": "stdout"
        }
      ]
    },
    {
      "metadata": {
        "id": "3j9WTFMhSkOP",
        "colab_type": "code",
        "colab": {}
      },
      "cell_type": "code",
      "source": [
        ""
      ],
      "execution_count": 0,
      "outputs": []
    }
  ]
}