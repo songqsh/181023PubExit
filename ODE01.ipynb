{
 "cells": [
  {
   "cell_type": "markdown",
   "metadata": {
    "collapsed": false
   },
   "source": [
    "We are going to solve nonlinear ODE with boundary values of this below:\n",
    "$$\\frac 1 2 v'' + |v'| - v + 1 = 0, \\ \\hbox{ on } (-1, 1); \\quad \\ v(\\pm 1) = 0.$$ \n",
    "From its __probabilistic view__, one can guess that, (1) $v$ is even; (2)$v'\\ge 0$ on $(0,1)$. This suggests to solve the following linear ODE instead:\n",
    "$$\\frac 1 2 u'' + u' - u + 1 = 0, \\ \\hbox{ on } (0, 1); \\quad \\ u(1) = u'(0+) = 0.$$\n",
    "If we are lucky enough to find the solution $u$, then we can set the candidate solution $v(x) = u(|x|)$, and verify the original PDE. Some possible extensions are listed at the end."
   ]
  },
  {
   "cell_type": "markdown",
   "metadata": {
    "collapsed": false
   },
   "source": [
    "__Solution__\n",
    "\n",
    "$v(x) = u(|x|)$, where $u$ is given by\n",
    "$$u(x) = a_1 +1 + \\frac{e^{-\\lambda_1 x} - e^{-\\lambda_2 x}}{e^{-\\lambda_1} - e^{-\\lambda_2}},$$\n",
    "with parameters given by\n",
    "$$\\lambda_1 = 1 + \\sqrt 3, \\  \\lambda_2 = 1 - \\sqrt 3, \\  a_1 = \\frac{-2\\sqrt 3}{\\lambda_1 e^{-\\lambda_2} - \\lambda_2 e^{-\\lambda_1}}.$$"
   ]
  },
  {
   "cell_type": "code",
   "execution_count": 95,
   "metadata": {
    "collapsed": false
   },
   "outputs": [
    {
     "name": "stdout",
     "output_type": "stream",
     "text": [
      "-u(x) + diff(u(x), x) + 1/2*diff(u(x), x, x) + 1 == 0\n"
     ]
    }
   ],
   "source": [
    "x, a = var('x', 'a')\n",
    "u = function('u')(x)\n",
    "de = 1/2*diff(u,x,2) + diff(u, x) - u + 1 == 0\n",
    "print(de)"
   ]
  },
  {
   "cell_type": "markdown",
   "metadata": {
    "collapsed": false
   },
   "source": [
    "Sage does not solve ODE with mixed boundary, but it is good at solving Dirichlet problem. So we first solve the following equation parameterized by $a$:\n",
    "$$\\frac 1 2 u'' + u' - u + 1 = 0, \\ \\hbox{ on } (0, 1); \\quad \\ u(1) = 0, \\ u(0) = a.$$"
   ]
  },
  {
   "cell_type": "code",
   "execution_count": 99,
   "metadata": {
    "collapsed": false
   },
   "outputs": [
    {
     "data": {
      "text/plain": [
       "(a*e^(sqrt(3) - 1) - e^(sqrt(3) - 1) + 1)*e^(-x*(sqrt(3) + 1))/(e^(sqrt(3) - 1) - e^(-sqrt(3) - 1)) - (a*e^(-sqrt(3) - 1) - e^(-sqrt(3) - 1) + 1)*e^(x*(sqrt(3) - 1))/(e^(sqrt(3) - 1) - e^(-sqrt(3) - 1)) + 1"
      ]
     },
     "execution_count": 99,
     "metadata": {
     },
     "output_type": "execute_result"
    }
   ],
   "source": [
    "u = desolve(de, dvar = u, ivar = x, ics = [0, a, 1, 0]);\n",
    "u "
   ]
  },
  {
   "cell_type": "code",
   "execution_count": 108,
   "metadata": {
    "collapsed": false
   },
   "outputs": [
    {
     "data": {
      "text/html": [
       "<html><script type=\"math/tex; mode=display\">\\newcommand{\\Bold}[1]{\\mathbf{#1}}\\frac{{\\left(a e^{\\left(\\sqrt{3} - 1\\right)} - e^{\\left(\\sqrt{3} - 1\\right)} + 1\\right)} e^{\\left(-x {\\left(\\sqrt{3} + 1\\right)}\\right)}}{e^{\\left(\\sqrt{3} - 1\\right)} - e^{\\left(-\\sqrt{3} - 1\\right)}} - \\frac{{\\left(a e^{\\left(-\\sqrt{3} - 1\\right)} - e^{\\left(-\\sqrt{3} - 1\\right)} + 1\\right)} e^{\\left(x {\\left(\\sqrt{3} - 1\\right)}\\right)}}{e^{\\left(\\sqrt{3} - 1\\right)} - e^{\\left(-\\sqrt{3} - 1\\right)}} + 1</script></html>"
      ]
     },
     "execution_count": 108,
     "metadata": {
     },
     "output_type": "execute_result"
    }
   ],
   "source": [
    "show(u)"
   ]
  },
  {
   "cell_type": "markdown",
   "metadata": {
    "collapsed": false
   },
   "source": [
    "Now, we want to solve for $a$ from $u'(0+) = 0$"
   ]
  },
  {
   "cell_type": "code",
   "execution_count": 102,
   "metadata": {
    "collapsed": false
   },
   "outputs": [
    {
     "name": "stdout",
     "output_type": "stream",
     "text": [
      "-(a*e^(sqrt(3) - 1) - e^(sqrt(3) - 1) + 1)*(sqrt(3) + 1)*e^(-x*(sqrt(3) + 1))/(e^(sqrt(3) - 1) - e^(-sqrt(3) - 1)) - (a*e^(-sqrt(3) - 1) - e^(-sqrt(3) - 1) + 1)*(sqrt(3) - 1)*e^(x*(sqrt(3) - 1))/(e^(sqrt(3) - 1) - e^(-sqrt(3) - 1))\n",
      "-(a*e^(sqrt(3) - 1) - e^(sqrt(3) - 1) + 1)*(sqrt(3) + 1)/(e^(sqrt(3) - 1) - e^(-sqrt(3) - 1)) - (a*e^(-sqrt(3) - 1) - e^(-sqrt(3) - 1) + 1)*(sqrt(3) - 1)/(e^(sqrt(3) - 1) - e^(-sqrt(3) - 1))\n",
      "[\n",
      "a == ((sqrt(3) + 1)*e^(sqrt(3) - 1) + (sqrt(3) - 1)*e^(-sqrt(3) - 1) - 2*sqrt(3))/((sqrt(3) + 1)*e^(sqrt(3) - 1) + (sqrt(3) - 1)*e^(-sqrt(3) - 1))\n",
      "]\n"
     ]
    }
   ],
   "source": [
    "up = diff(u,x) #derivative of $u$\n",
    "print(up)\n",
    "up0 = up(x=0) #derivative of $u(0)$ parameterized by $a$\n",
    "print(up0)\n",
    "aSol = up0.solve(a) #solve for $a$\n",
    "print(aSol)"
   ]
  },
  {
   "cell_type": "code",
   "execution_count": 107,
   "metadata": {
    "collapsed": false
   },
   "outputs": [
    {
     "data": {
      "text/html": [
       "<html><script type=\"math/tex; mode=display\">\\newcommand{\\Bold}[1]{\\mathbf{#1}}a = \\frac{{\\left(\\sqrt{3} + 1\\right)} e^{\\left(\\sqrt{3} - 1\\right)} + {\\left(\\sqrt{3} - 1\\right)} e^{\\left(-\\sqrt{3} - 1\\right)} - 2 \\, \\sqrt{3}}{{\\left(\\sqrt{3} + 1\\right)} e^{\\left(\\sqrt{3} - 1\\right)} + {\\left(\\sqrt{3} - 1\\right)} e^{\\left(-\\sqrt{3} - 1\\right)}}</script></html>"
      ]
     },
     "execution_count": 107,
     "metadata": {
     },
     "output_type": "execute_result"
    }
   ],
   "source": [
    "show(aSol[0])"
   ]
  },
  {
   "cell_type": "markdown",
   "metadata": {
    "collapsed": false
   },
   "source": [
    "Find $u$ on entire interval $(-1,1)$ by its symmetry. Then one can check manually $u$ is a classical solution of the original nonlinear equation."
   ]
  },
  {
   "cell_type": "code",
   "execution_count": 74,
   "metadata": {
    "collapsed": false
   },
   "outputs": [
    {
     "data": {
      "text/plain": [
       "0.395287507597976"
      ]
     },
     "execution_count": 74,
     "metadata": {
     },
     "output_type": "execute_result"
    }
   ],
   "source": [
    "uu = u.subs(aSol[0])\n",
    "v(x) = uu(abs(x))\n",
    "v(0).n() #print out the numerical value of the maximum of $v$"
   ]
  },
  {
   "cell_type": "code",
   "execution_count": 68,
   "metadata": {
    "collapsed": false
   },
   "outputs": [
    {
     "data": {
      "image/png": "[encoded data removed]"
     },
     "execution_count": 68,
     "metadata": {
     },
     "output_type": "execute_result"
    }
   ],
   "source": [
    "plot(v)"
   ]
  },
  {
   "cell_type": "markdown",
   "metadata": {
    "collapsed": false
   },
   "source": [
    "__Possible extensions:__\n",
    "\n",
    "- Multidimensional case\n",
    "- Probability representation of $v$ and $u$;\n",
    "- BSDE representation;\n",
    "- Replace $1$ in the equation by nonnegative $\\ell$;\n",
    "- Replace $1$ by $-1$, further by $f(x)$ with oscillating up and down from zero;\n",
    "- Change $u''$ by $-(-\\Delta)^{\\alpha/2}$"
   ]
  },
  {
   "cell_type": "code",
   "execution_count": 0,
   "metadata": {
    "collapsed": false
   },
   "outputs": [
   ],
   "source": [
   ]
  }
 ],
 "metadata": {
  "kernelspec": {
   "display_name": "SageMath (stable)",
   "name": "sagemath"
  },
  "language_info": {
   "codemirror_mode": {
    "name": "ipython",
    "version": 2
   },
   "file_extension": ".py",
   "mimetype": "text/x-python",
   "name": "python",
   "nbconvert_exporter": "python",
   "pygments_lexer": "ipython2",
   "version": "2.7.14"
  }
 },
 "nbformat": 4,
 "nbformat_minor": 0
}