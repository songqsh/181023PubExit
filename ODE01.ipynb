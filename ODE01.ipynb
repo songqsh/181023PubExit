{
 "cells": [
  {
   "cell_type": "markdown",
   "metadata": {
    "collapsed": false
   },
   "source": [
    "Consider ODE with Dirichlet boundary given as below:\n",
    "$$\\frac 1 2 \\epsilon^{2} u'' + u' - u + 1 = 0, \\hbox{ on } O := (0, 1), \\quad\n",
    "u(0) = u(1) = 0.$$\n",
    "If $\\epsilon >0$, then there exists unique $C^{2}(O) \\cap C(\\bar O)$ solution,\n",
    "whose representation can be explicitly written by\n",
    "$$u (x) = 1 +\n",
    "\\frac{(1 - e^{\\lambda_{1}}) e^{\\lambda_{2} x} + (e^{\\lambda_{2}}-1) e^{\\lambda_{1} x}}\n",
    "{e^{\\lambda_{1}} - e^{\\lambda_{2}}},\n",
    "$$\n",
    "where\n",
    "$$\\lambda_{1} = \\frac{\\sqrt{1 + 2 \\epsilon^{2}} - 1}{\\epsilon^{2}}, \\\n",
    "\\hbox{ and }\n",
    "\\lambda_{2} = \\frac{- \\sqrt{1 + 2\\epsilon^{2}} - 1}{\\epsilon^{2}}.$$\n"
   ]
  },
  {
   "cell_type": "code",
   "execution_count": 1,
   "metadata": {
    "collapsed": false
   },
   "outputs": [
    {
     "name": "stdout",
     "output_type": "stream",
     "text": [
      "1/2*a^2*diff(u(x), x, x) - u(x) + diff(u(x), x) + 1 == 0\n"
     ]
    }
   ],
   "source": [
    "#This code is SageMath to compute an ODE explicitly\n",
    "#Run this with CoCalc on its web based cloud platform\n",
    "#Visit webpage for the computing outcome:\n",
    "#    https://cocalc.com/share/3e846d30-3d24-467c-a0d8-58549b3cf8f6/2018-06-21-155129.ipynb?viewer=share\n",
    "\n",
    "x, a = var('x', 'a')\n",
    "u = function('u')(x)\n",
    "\n",
    "#Setup ODE parameterized by a\n",
    "de = 1/2*a^2*diff(u,x,2) + diff(u, x) - u + 1 == 0\n",
    "#show(de)\n",
    "print(de)"
   ]
  },
  {
   "cell_type": "code",
   "execution_count": 2,
   "metadata": {
    "collapsed": false
   },
   "outputs": [
    {
     "name": "stdout",
     "output_type": "stream",
     "text": [
      "-(e^(1/2*sqrt(8/a^2 + 4/a^4) - 1/a^2) - 1)*e^(-1/2*x*(sqrt(8/a^2 + 4/a^4) + 2/a^2))/(e^(1/2*sqrt(8/a^2 + 4/a^4) - 1/a^2) - e^(-1/2*sqrt(8/a^2 + 4/a^4) - 1/a^2)) + (e^(-1/2*sqrt(8/a^2 + 4/a^4) - 1/a^2) - 1)*e^(1/2*x*(sqrt(8/a^2 + 4/a^4) - 2/a^2))/(e^(1/2*sqrt(8/a^2 + 4/a^4) - 1/a^2) - e^(-1/2*sqrt(8/a^2 + 4/a^4) - 1/a^2)) + 1\n"
     ]
    }
   ],
   "source": [
    "#Solve for ODE with zero boundary value\n",
    "f = desolve(de, dvar = u, ivar = x, ics = [0, 0, 1, 0]);\n",
    "#show(f)\n",
    "print(f)"
   ]
  },
  {
   "cell_type": "code",
   "execution_count": 0,
   "metadata": {
    "collapsed": false
   },
   "outputs": [
   ],
   "source": [
   ]
  }
 ],
 "metadata": {
  "kernelspec": {
   "display_name": "SageMath (stable)",
   "name": "sagemath"
  },
  "language_info": {
   "codemirror_mode": {
    "name": "ipython",
    "version": 2
   },
   "file_extension": ".py",
   "mimetype": "text/x-python",
   "name": "python",
   "nbconvert_exporter": "python",
   "pygments_lexer": "ipython2",
   "version": "2.7.14"
  }
 },
 "nbformat": 4,
 "nbformat_minor": 0
}