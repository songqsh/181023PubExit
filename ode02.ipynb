{
  "nbformat": 4,
  "nbformat_minor": 0,
  "metadata": {
    "colab": {
      "name": "ode02.ipynb",
      "provenance": [],
      "include_colab_link": true
    },
    "kernelspec": {
      "name": "python3",
      "display_name": "Python 3"
    }
  },
  "cells": [
    {
      "cell_type": "markdown",
      "metadata": {
        "id": "view-in-github",
        "colab_type": "text"
      },
      "source": [
        "<a href=\"https://colab.research.google.com/github/songqsh/181023PubExit/blob/master/ode02.ipynb\" target=\"_parent\"><img src=\"https://colab.research.google.com/assets/colab-badge.svg\" alt=\"Open In Colab\"/></a>"
      ]
    },
    {
      "cell_type": "markdown",
      "metadata": {
        "id": "-rG7O5fIbYRq",
        "colab_type": "text"
      },
      "source": [
        "__Goal__\n",
        "\n",
        "We want to solve ODE\n",
        "$$u''(x) - 2 = 0, u(1) = u(-1) = 0, x\\in [-1,1]$$\n",
        "with neural network and compare this with true solution $u(x) = x^2 - 1$.\n",
        "\n",
        "__Method__\n",
        "\n",
        "- Build a neural network, say $v(x;w)$, where $x$ is 1-d input and $w$ is weight. \n",
        "- Set loss function as\n",
        "$$l(w) = \\sum_{j=1}^{10} \\Big(\\frac{\\partial^2}{\\partial_{xx}} v(j/10, w) - 1 \\Big)^2 + (v(0) - 1)^2 + (v(1) - 1)^2.$$\n",
        "- Use an optimizer to minimize the loss\n"
      ]
    },
    {
      "cell_type": "code",
      "metadata": {
        "id": "0rhGwHmBXJiF",
        "colab_type": "code",
        "colab": {}
      },
      "source": [
        "import torch\n",
        "import torch.nn as nn\n",
        "from torch.autograd import grad"
      ],
      "execution_count": 0,
      "outputs": []
    },
    {
      "cell_type": "code",
      "metadata": {
        "id": "ooBozAznYass",
        "colab_type": "code",
        "colab": {}
      },
      "source": [
        "#parameters\n",
        "diffusion = 1.\n",
        "drift = 0.\n",
        "run_cost = -2.\n",
        "l_val = 0.\n",
        "r_val = 0.\n",
        "\n",
        "l_end = -1.\n",
        "r_end = 1.\n",
        "mesh_n = 20\n",
        "mesh_x = torch.linspace(l_end, r_end, mesh_n +1, dtype = torch.float, requires_grad=True).reshape(mesh_n+1,1)\n"
      ],
      "execution_count": 0,
      "outputs": []
    },
    {
      "cell_type": "code",
      "metadata": {
        "id": "fPtZC59LXMGn",
        "colab_type": "code",
        "colab": {
          "base_uri": "https://localhost:8080/",
          "height": 170
        },
        "outputId": "905b081e-16cc-4f83-bb45-ae4e58b7cbd0"
      },
      "source": [
        "H = 2 #number of hidden layer\n",
        "model = nn.Sequential(\n",
        "    nn.Linear(1, H), \n",
        "    nn.Sigmoid(),\n",
        "    nn.Linear(H, 1),\n",
        ")\n",
        "\n",
        "for p in model.parameters():\n",
        "  print(p)\n",
        "#model(torch.randn(5,1))"
      ],
      "execution_count": 14,
      "outputs": [
        {
          "output_type": "stream",
          "text": [
            "Parameter containing:\n",
            "tensor([[-0.4720],\n",
            "        [-0.1587]], requires_grad=True)\n",
            "Parameter containing:\n",
            "tensor([-0.8582,  0.8815], requires_grad=True)\n",
            "Parameter containing:\n",
            "tensor([[ 0.5029, -0.3510]], requires_grad=True)\n",
            "Parameter containing:\n",
            "tensor([-0.0956], requires_grad=True)\n"
          ],
          "name": "stdout"
        }
      ]
    },
    {
      "cell_type": "code",
      "metadata": {
        "id": "T8IrqZq0XMJn",
        "colab_type": "code",
        "colab": {}
      },
      "source": [
        "def loss1(model, mesh_x, drift, run_cost): #loss in the interior\n",
        "  loss = 0.\n",
        "  for x in mesh_x[1:]:\n",
        "    y = model(x) #function value\n",
        "    y_g1 = grad(y, x, create_graph=True)[0] #first order derivative\n",
        "\n",
        "    y_g2 = grad(y_g1, x, create_graph=True)[0] #second order\n",
        "    #print('y_g2', y_g2) \n",
        "\n",
        "    loss = loss + torch.pow(y_g2*diffusion + y_g1*drift + run_cost, 2)\n",
        "    \n",
        "  return torch.div(loss, mesh_x.shape[0])\n",
        "\n",
        "#loss_total = loss interior + loss boundary\n",
        "def loss_tot(model, mesh_x, drfit, run_cost, l_val, r_val):\n",
        "  l1 = loss1(model, mesh_x, drift, run_cost) #loss interior\n",
        "  l0 = torch.pow(model(mesh_x[0]) - l_val, 2) + \\\n",
        "        torch.pow(model(mesh_x[-1]) - r_val, 2) #loss boundary\n",
        "  return torch.add(l1,l0)\n",
        "\n",
        "#loss_tot(model, mesh_x, drift, run_cost, l_val, r_val)  "
      ],
      "execution_count": 0,
      "outputs": []
    },
    {
      "cell_type": "code",
      "metadata": {
        "id": "eG-J0PkRd8Va",
        "colab_type": "code",
        "colab": {}
      },
      "source": [
        "#optimizer\n",
        "learning_rate = 0.1\n",
        "optimizer = torch.optim.SGD(model.parameters(), lr=learning_rate)"
      ],
      "execution_count": 0,
      "outputs": []
    },
    {
      "cell_type": "code",
      "metadata": {
        "id": "WAc40uW6eKg9",
        "colab_type": "code",
        "outputId": "ec949a2b-c915-4e21-81dc-2727d5d2f77c",
        "colab": {
          "base_uri": "https://localhost:8080/",
          "height": 357
        }
      },
      "source": [
        "# Train the model\n",
        "num_epochs = 40\n",
        "\n",
        "for epoch in range(num_epochs):\n",
        "\n",
        "    # Forward pass\n",
        "    loss = loss_tot(model, mesh_x, drift, run_cost, l_val, r_val)  \n",
        "    \n",
        "    # Backward and optimize\n",
        "    optimizer.zero_grad()\n",
        "    loss.backward()\n",
        "    optimizer.step()\n",
        "    \n",
        "    \n",
        "    if (epoch+1) % 2 == 0:\n",
        "        print ('Epoch [{}/{}], Loss: {:.4f}'.format(epoch+1, \n",
        "                                                    num_epochs, loss.item()))\n",
        "    "
      ],
      "execution_count": 36,
      "outputs": [
        {
          "output_type": "stream",
          "text": [
            "Epoch [2/40], Loss: 0.2391\n",
            "Epoch [4/40], Loss: 0.2172\n",
            "Epoch [6/40], Loss: 0.1979\n",
            "Epoch [8/40], Loss: 0.1810\n",
            "Epoch [10/40], Loss: 0.1663\n",
            "Epoch [12/40], Loss: 0.1536\n",
            "Epoch [14/40], Loss: 0.1426\n",
            "Epoch [16/40], Loss: 0.1331\n",
            "Epoch [18/40], Loss: 0.1250\n",
            "Epoch [20/40], Loss: 0.1180\n",
            "Epoch [22/40], Loss: 0.1119\n",
            "Epoch [24/40], Loss: 0.1067\n",
            "Epoch [26/40], Loss: 0.1022\n",
            "Epoch [28/40], Loss: 0.0983\n",
            "Epoch [30/40], Loss: 0.0950\n",
            "Epoch [32/40], Loss: 0.0920\n",
            "Epoch [34/40], Loss: 0.0895\n",
            "Epoch [36/40], Loss: 0.0872\n",
            "Epoch [38/40], Loss: 0.0852\n",
            "Epoch [40/40], Loss: 0.0834\n"
          ],
          "name": "stdout"
        }
      ]
    },
    {
      "cell_type": "code",
      "metadata": {
        "id": "M_d9CyJ8dVT-",
        "colab_type": "code",
        "colab": {}
      },
      "source": [
        "import numpy as np\n",
        "import matplotlib.pyplot as plt"
      ],
      "execution_count": 0,
      "outputs": []
    },
    {
      "cell_type": "code",
      "metadata": {
        "id": "KMK2r89xkxDp",
        "colab_type": "code",
        "outputId": "bb220ef3-eace-4290-81f0-d4b2d35c5291",
        "colab": {
          "base_uri": "https://localhost:8080/",
          "height": 282
        }
      },
      "source": [
        "x_np = mesh_x.detach().numpy()\n",
        "y_np = model(mesh_x).detach().numpy()\n",
        "plt.plot(x_np, y_np)"
      ],
      "execution_count": 38,
      "outputs": [
        {
          "output_type": "execute_result",
          "data": {
            "text/plain": [
              "[<matplotlib.lines.Line2D at 0x7fe2ec792f60>]"
            ]
          },
          "metadata": {
            "tags": []
          },
          "execution_count": 38
        },
        {
          "output_type": "display_data",
          "data": {
            "image/png": "[encoded data removed]",
            "text/plain": [
              "<Figure size 432x288 with 1 Axes>"
            ]
          },
          "metadata": {
            "tags": []
          }
        }
      ]
    },
    {
      "cell_type": "code",
      "metadata": {
        "id": "UshzrJl1lRPM",
        "colab_type": "code",
        "colab": {}
      },
      "source": [
        ""
      ],
      "execution_count": 0,
      "outputs": []
    }
  ]
}